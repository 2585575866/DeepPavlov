{
 "cells": [
  {
   "cell_type": "code",
   "execution_count": 1,
   "metadata": {},
   "outputs": [],
   "source": [
    "import logging\n",
    "\n",
    "from deeppavlov import build_model\n",
    "from utils.telegram_utils.telegram_ui import experimental_bot"
   ]
  },
  {
   "cell_type": "code",
   "execution_count": 2,
   "metadata": {},
   "outputs": [],
   "source": [
    "logging.getLogger('requests.packages.urllib3.connectionpool').setLevel(logging.WARNING)"
   ]
  },
  {
   "cell_type": "code",
   "execution_count": 3,
   "metadata": {},
   "outputs": [],
   "source": [
    "def model_function():\n",
    "    print('building model')\n",
    "    model = build_model('tfidf_autofaq', download=True)\n",
    "    print('model built')\n",
    "    def infer(messages, dialog_ids):\n",
    "        answers, scores = model(messages)\n",
    "        return answers\n",
    "    return infer"
   ]
  },
  {
   "cell_type": "code",
   "execution_count": null,
   "metadata": {},
   "outputs": [
    {
     "name": "stdout",
     "output_type": "stream",
     "text": [
      "building model\n"
     ]
    },
    {
     "name": "stderr",
     "output_type": "stream",
     "text": [
      "2019-01-31 15:56:59.233 INFO in 'deeppavlov.core.common.file'['file'] at line 31: Interpreting 'tfidf_autofaq' as '/home/yoptar/reps/DeepPavlov/deeppavlov/configs/faq/tfidf_autofaq.json'\n",
      "2019-01-31 15:56:59.360 INFO in 'deeppavlov.core.data.utils'['utils'] at line 64: Downloading from http://files.deeppavlov.ai/faq/school/tfidf_cos_sim_classifier.pkl to /data/deeppavlov_data/models/faq/tfidf_cos_sim_classifier.pkl\n",
      "100%|██████████| 12.0k/12.0k [00:00<00:00, 54.6MB/s]\n",
      "2019-01-31 15:56:59.476 INFO in 'deeppavlov.core.data.utils'['utils'] at line 64: Downloading from http://files.deeppavlov.ai/vectorizer/tfidf_vectorizer_ruwiki.pkl to /data/deeppavlov_data/models/vectorizer/tfidf_vectorizer_ruwiki.pkl\n",
      "100%|██████████| 140M/140M [00:06<00:00, 20.8MB/s]\n",
      "[nltk_data] Downloading package punkt to /home/yoptar/nltk_data...\n",
      "[nltk_data]   Package punkt is already up-to-date!\n",
      "[nltk_data] Downloading package stopwords to /home/yoptar/nltk_data...\n",
      "[nltk_data]   Package stopwords is already up-to-date!\n",
      "[nltk_data] Downloading package perluniprops to\n",
      "[nltk_data]     /home/yoptar/nltk_data...\n",
      "[nltk_data]   Package perluniprops is already up-to-date!\n",
      "[nltk_data] Downloading package nonbreaking_prefixes to\n",
      "[nltk_data]     /home/yoptar/nltk_data...\n",
      "[nltk_data]   Package nonbreaking_prefixes is already up-to-date!\n",
      "2019-01-31 15:57:07.129 INFO in 'pymorphy2.opencorpora_dict.wrapper'['wrapper'] at line 16: Loading dictionaries from /home/yoptar/reps/DeepPavlov/dpenv/lib/python3.6/site-packages/pymorphy2_dicts/data\n",
      "2019-01-31 15:57:07.183 INFO in 'pymorphy2.opencorpora_dict.wrapper'['wrapper'] at line 20: format: 2.4, revision: 393442, updated: 2015-01-17T16:03:56.586168\n",
      "2019-01-31 15:57:07.198 INFO in 'deeppavlov.models.sklearn.sklearn_component'['sklearn_component'] at line 201: Loading model sklearn.feature_extraction.text:TfidfVectorizer from /data/deeppavlov_data/models/vectorizer/tfidf_vectorizer_ruwiki.pkl\n",
      "2019-01-31 15:57:08.346 INFO in 'deeppavlov.models.sklearn.sklearn_component'['sklearn_component'] at line 208: Model sklearn.feature_extraction.textTfidfVectorizer loaded  with parameters\n",
      "2019-01-31 15:57:08.347 WARNING in 'deeppavlov.models.sklearn.sklearn_component'['sklearn_component'] at line 214: Fitting of loaded model can not be continued. Model can be fitted from scratch.If one needs to continue fitting, please, look at `warm_start` parameter\n",
      "2019-01-31 15:57:08.351 INFO in 'deeppavlov.models.classifiers.cos_sim_classifier'['cos_sim_classifier'] at line 125: Loading faq_model from /data/deeppavlov_data/models/faq/tfidf_cos_sim_classifier.pkl\n"
     ]
    },
    {
     "name": "stdout",
     "output_type": "stream",
     "text": [
      "model built\n"
     ]
    },
    {
     "name": "stderr",
     "output_type": "stream",
     "text": [
      "/home/yoptar/reps/DeepPavlov/deeppavlov/models/classifiers/cos_sim_classifier.py:63: RuntimeWarning: invalid value encountered in true_divide\n",
      "  cos_similarities = np.array(q_vects.dot(self.x_train_features.T).todense())/norm\n",
      "/home/yoptar/reps/DeepPavlov/dpenv/lib/python3.6/site-packages/numpy/core/_methods.py:26: RuntimeWarning: invalid value encountered in reduce\n",
      "  return umr_maximum(a, axis, None, out, keepdims)\n"
     ]
    }
   ],
   "source": [
    "experimental_bot(model_function, token='', proxy='')"
   ]
  }
 ],
 "metadata": {
  "kernelspec": {
   "display_name": "DeepPavlov",
   "language": "python",
   "name": "deeppavlov"
  },
  "language_info": {
   "codemirror_mode": {
    "name": "ipython",
    "version": 3
   },
   "file_extension": ".py",
   "mimetype": "text/x-python",
   "name": "python",
   "nbconvert_exporter": "python",
   "pygments_lexer": "ipython3",
   "version": "3.6.7"
  }
 },
 "nbformat": 4,
 "nbformat_minor": 2
}
